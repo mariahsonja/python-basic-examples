{
 "cells": [
  {
   "cell_type": "markdown",
   "metadata": {},
   "source": [
    "# Lambda Exercises\n",
    "\n",
    "Exercises from **W3resources** \n",
    " \n",
    "https://www.w3resource.com/python-exercises/lambda/index.php\n"
   ]
  },
  {
   "cell_type": "code",
   "execution_count": 72,
   "metadata": {},
   "outputs": [],
   "source": [
    "# importing packages\n",
    "import datetime\n",
    "from functools import reduce\n",
    "from collections import Counter "
   ]
  },
  {
   "cell_type": "markdown",
   "metadata": {},
   "source": [
    "**1. Write a Python program to create a lambda function that adds 15 to a given number passed in as an argument, also create a lambda function that multiplies argument x with argument y and print the result.**"
   ]
  },
  {
   "cell_type": "code",
   "execution_count": 2,
   "metadata": {},
   "outputs": [
    {
     "name": "stdout",
     "output_type": "stream",
     "text": [
      "25\n",
      "48\n"
     ]
    }
   ],
   "source": [
    "# creating python lambda functions\n",
    "r = lambda a : a + 15\n",
    "print(r(10))\n",
    "\n",
    "r = lambda x, y : x * y\n",
    "print(r(12, 4))"
   ]
  },
  {
   "cell_type": "markdown",
   "metadata": {},
   "source": [
    "**2. Write a Python program to create a function that takes one argument, and that argument will be multiplied with an unknown given number.**"
   ]
  },
  {
   "cell_type": "code",
   "execution_count": 3,
   "metadata": {},
   "outputs": [
    {
     "name": "stdout",
     "output_type": "stream",
     "text": [
      "Double the number of 15 = 30\n",
      "Triple the number of 15 = 45\n",
      "Quadruple the number of 15 = 60\n",
      "Quintuple the number 15 = 75\n"
     ]
    }
   ],
   "source": [
    "# creating function\n",
    "def func_compute(n):\n",
    "    return lambda x : x * n\n",
    "\n",
    "result = func_compute(2)\n",
    "print(\"Double the number of 15 =\", result(15))\n",
    "\n",
    "result = func_compute(3)\n",
    "print(\"Triple the number of 15 =\", result(15))\n",
    "\n",
    "result = func_compute(4)\n",
    "print(\"Quadruple the number of 15 =\", result(15))\n",
    "\n",
    "result = func_compute(5)\n",
    "print(\"Quintuple the number 15 =\", result(15))"
   ]
  },
  {
   "cell_type": "markdown",
   "metadata": {},
   "source": [
    "**3. Write a Python program to sort a list of tuples using Lambda.**"
   ]
  },
  {
   "cell_type": "code",
   "execution_count": 4,
   "metadata": {},
   "outputs": [
    {
     "name": "stdout",
     "output_type": "stream",
     "text": [
      "Original list of tuples:\n",
      "[('English', 88), ('Science', 90), ('Maths', 97), ('Social sciences', 82)]\n",
      "\n",
      "Sorting the List of Tuples:\n",
      "[('Social sciences', 82), ('English', 88), ('Science', 90), ('Maths', 97)]\n"
     ]
    }
   ],
   "source": [
    "# sortting list of tuples using Lambda\n",
    "subject_marks = [('English', 88), ('Science', 90), ('Maths', 97), ('Social sciences', 82)]\n",
    "print(\"Original list of tuples:\")\n",
    "print(subject_marks)\n",
    "\n",
    "subject_marks.sort(key = lambda x: x[1])\n",
    "print(\"\\nSorting the List of Tuples:\")\n",
    "print(subject_marks)"
   ]
  },
  {
   "cell_type": "markdown",
   "metadata": {},
   "source": [
    "**4. Write a Python program to sort a list of dictionaries using Lambda.**"
   ]
  },
  {
   "cell_type": "code",
   "execution_count": 5,
   "metadata": {},
   "outputs": [
    {
     "name": "stdout",
     "output_type": "stream",
     "text": [
      "Original list of dictionaries :\n",
      "[{'make': 'Nokia', 'model': 216, 'color': 'Black'}, {'make': 'Mi Max', 'model': '2', 'color': 'Gold'}, {'make': 'Samsung', 'model': 7, 'color': 'Blue'}]\n",
      "\n",
      "Sorting the List of dictionaries :\n",
      "[{'make': 'Nokia', 'model': 216, 'color': 'Black'}, {'make': 'Samsung', 'model': 7, 'color': 'Blue'}, {'make': 'Mi Max', 'model': '2', 'color': 'Gold'}]\n"
     ]
    }
   ],
   "source": [
    "# sortting a list of dicts\n",
    "models = [{'make':'Nokia', 'model':216, 'color':'Black'}, {'make':'Mi Max', 'model':'2', 'color':'Gold'}, {'make':'Samsung', 'model': 7, 'color':'Blue'}]\n",
    "print(\"Original list of dictionaries :\")\n",
    "print(models)\n",
    "\n",
    "sorted_models = sorted(models, key = lambda x: x['color'])\n",
    "print(\"\\nSorting the List of dictionaries :\")\n",
    "print(sorted_models)"
   ]
  },
  {
   "cell_type": "markdown",
   "metadata": {},
   "source": [
    "**5. Write a Python program to filter a list of integers using Lambda.**"
   ]
  },
  {
   "cell_type": "code",
   "execution_count": 6,
   "metadata": {},
   "outputs": [
    {
     "name": "stdout",
     "output_type": "stream",
     "text": [
      "Original list of integers:\n",
      "[1, 2, 3, 4, 5, 6, 7, 8, 9, 10]\n",
      "\n",
      "Even numbers from the said list:\n",
      "[2, 4, 6, 8, 10]\n",
      "\n",
      "Odd numbers from the said list:\n",
      "[1, 3, 5, 7, 9]\n"
     ]
    }
   ],
   "source": [
    "# filtering a list of ints\n",
    "nums = [1, 2, 3, 4, 5, 6, 7, 8, 9, 10]\n",
    "print(\"Original list of integers:\")\n",
    "print(nums)\n",
    "print(\"\\nEven numbers from the said list:\")\n",
    "\n",
    "even_nums = list(filter(lambda x: x%2 == 0, nums))\n",
    "print(even_nums)\n",
    "print(\"\\nOdd numbers from the said list:\")\n",
    "\n",
    "odd_nums = list(filter(lambda x: x%2 != 0, nums))\n",
    "print(odd_nums)"
   ]
  },
  {
   "cell_type": "markdown",
   "metadata": {},
   "source": [
    "**6. Write a Python program to square and cube every number in a given list of integers using Lambda.**"
   ]
  },
  {
   "cell_type": "code",
   "execution_count": 7,
   "metadata": {},
   "outputs": [
    {
     "name": "stdout",
     "output_type": "stream",
     "text": [
      "Original list of integers:\n",
      "[1, 2, 3, 4, 5, 6, 7, 8, 9, 10]\n",
      "\n",
      "Square every number of the said list:\n",
      "[1, 4, 9, 16, 25, 36, 49, 64, 81, 100]\n",
      "\n",
      "Cube every number of the said list:\n",
      "[1, 8, 27, 64, 125, 216, 343, 512, 729, 1000]\n"
     ]
    }
   ],
   "source": [
    "# square a cube for every number of a list\n",
    "nums = [1, 2, 3, 4, 5, 6, 7, 8, 9, 10]\n",
    "print(\"Original list of integers:\")\n",
    "print(nums)\n",
    "print(\"\\nSquare every number of the said list:\")\n",
    "\n",
    "square_nums = list(map(lambda x: x ** 2, nums))\n",
    "print(square_nums)\n",
    "print(\"\\nCube every number of the said list:\")\n",
    "\n",
    "cube_nums = list(map(lambda x: x ** 3, nums))\n",
    "print(cube_nums)"
   ]
  },
  {
   "cell_type": "markdown",
   "metadata": {},
   "source": [
    "**7. Write a Python program to find whether a given string starts with a given character using Lambda.**"
   ]
  },
  {
   "cell_type": "code",
   "execution_count": 8,
   "metadata": {},
   "outputs": [
    {
     "name": "stdout",
     "output_type": "stream",
     "text": [
      "True\n",
      "False\n"
     ]
    }
   ],
   "source": [
    "# defining if a string starts with a given char\n",
    "starts_with = lambda x: True if x.startswith('P') else False\n",
    "print(starts_with('Python'))\n",
    "print(starts_with('Java'))"
   ]
  },
  {
   "cell_type": "markdown",
   "metadata": {},
   "source": [
    "**8. Write a Python program to extract year, month, date and time using Lambda.**"
   ]
  },
  {
   "cell_type": "code",
   "execution_count": 44,
   "metadata": {},
   "outputs": [
    {
     "name": "stdout",
     "output_type": "stream",
     "text": [
      "2020-12-10 16:04:36.321967\n",
      "2020\n",
      "12\n",
      "10\n",
      "16:04:36.321967\n"
     ]
    }
   ],
   "source": [
    "# extracting year, month, date and time \n",
    "now = datetime.datetime.now()\n",
    "print(now)\n",
    "\n",
    "year = lambda x: x.year\n",
    "month = lambda x: x.month\n",
    "day = lambda x: x.day\n",
    "t = lambda x: x.time()\n",
    "\n",
    "print(year(now))\n",
    "print(month(now))\n",
    "print(day(now))\n",
    "print(t(now))"
   ]
  },
  {
   "cell_type": "markdown",
   "metadata": {},
   "source": [
    "**9. Write a Python program to check whether a given string is number or not using Lambda.**"
   ]
  },
  {
   "cell_type": "code",
   "execution_count": 46,
   "metadata": {},
   "outputs": [
    {
     "name": "stdout",
     "output_type": "stream",
     "text": [
      "True\n",
      "True\n",
      "False\n",
      "True\n",
      "False\n",
      "True\n",
      "True\n",
      "True\n"
     ]
    }
   ],
   "source": [
    "# checking if a string is number or not\n",
    "is_num = lambda q: q.replace('.','',1).isdigit()\n",
    "print(is_num('26587'))\n",
    "print(is_num('4.2365'))\n",
    "print(is_num('-12547'))\n",
    "print(is_num('00'))\n",
    "print(is_num('A001'))\n",
    "print(is_num('001'))\n",
    "\n",
    "is_num1 = lambda r: is_num(r[1:]) if r[0]=='-' else is_num(r)\n",
    "print(is_num1('-16.4'))\n",
    "print(is_num1('-24587.11'))"
   ]
  },
  {
   "cell_type": "markdown",
   "metadata": {},
   "source": [
    "**10. Write a Python program to create Fibonacci Upto series using Lambda.**"
   ]
  },
  {
   "cell_type": "code",
   "execution_count": 49,
   "metadata": {},
   "outputs": [
    {
     "name": "stdout",
     "output_type": "stream",
     "text": [
      "Fibonacci series upto 2:\n",
      "[0, 1]\n",
      "\n",
      "Fibonacci series upto 5:\n",
      "[0, 1, 1, 2, 3]\n",
      "\n",
      "Fibonacci series upto 6:\n",
      "[0, 1, 1, 2, 3, 5]\n",
      "\n",
      "Fibonacci series upto 9:\n",
      "[0, 1, 1, 2, 3, 5, 8, 13, 21]\n"
     ]
    }
   ],
   "source": [
    "#  creating a Fibonacci series\n",
    "fib_series = lambda n: reduce(lambda x, _: x+[x[-1]+x[-2]], range(n-2), [0, 1])\n",
    " \n",
    "print(\"Fibonacci series upto 2:\")\n",
    "print(fib_series(2))\n",
    "print(\"\\nFibonacci series upto 5:\")\n",
    "print(fib_series(5))\n",
    "print(\"\\nFibonacci series upto 6:\")\n",
    "print(fib_series(6))\n",
    "print(\"\\nFibonacci series upto 9:\")\n",
    "print(fib_series(9))"
   ]
  },
  {
   "cell_type": "markdown",
   "metadata": {},
   "source": [
    "**11. Write a Python program to find intersection of two given arrays using Lambda.**"
   ]
  },
  {
   "cell_type": "code",
   "execution_count": 51,
   "metadata": {},
   "outputs": [
    {
     "name": "stdout",
     "output_type": "stream",
     "text": [
      "Original arrays:\n",
      "[1, 2, 3, 5, 7, 8, 9, 10]\n",
      "[1, 2, 4, 8, 9]\n",
      "\n",
      "Intersection of the said arrays:  [1, 2, 8, 9]\n"
     ]
    }
   ],
   "source": [
    "# finding the intersection of 2 arrays\n",
    "array_nums1 = [1, 2, 3, 5, 7, 8, 9, 10]\n",
    "array_nums2 = [1, 2, 4, 8, 9]\n",
    "print(\"Original arrays:\")\n",
    "print(array_nums1)\n",
    "print(array_nums2)\n",
    "\n",
    "result = list(filter(lambda x: x in array_nums1, array_nums2)) \n",
    "print (\"\\nIntersection of the said arrays: \",result)"
   ]
  },
  {
   "cell_type": "markdown",
   "metadata": {},
   "source": [
    "**12. Write a Python program to rearrange positive and negative numbers in a given array using Lambda.**"
   ]
  },
  {
   "cell_type": "code",
   "execution_count": 52,
   "metadata": {},
   "outputs": [
    {
     "name": "stdout",
     "output_type": "stream",
     "text": [
      "Original arrays:\n",
      "[-1, 2, -3, 5, 7, 8, 9, -10]\n",
      "\n",
      "Rearrange positive and negative numbers of the said array:\n",
      "[2, 5, 7, 8, 9, -10, -3, -1]\n"
     ]
    }
   ],
   "source": [
    "# rearranging positive and negative numbers\n",
    "array_nums = [-1, 2, -3, 5, 7, 8, 9, -10]\n",
    "print(\"Original arrays:\")\n",
    "print(array_nums)\n",
    "\n",
    "result = sorted(array_nums, key = lambda i: 0 if i == 0 else -1 / i)\n",
    "print(\"\\nRearrange positive and negative numbers of the said array:\")\n",
    "print(result)"
   ]
  },
  {
   "cell_type": "markdown",
   "metadata": {},
   "source": [
    "**13. Write a Python program to count the even, odd numbers in a given array of integers using Lambda.**"
   ]
  },
  {
   "cell_type": "code",
   "execution_count": 56,
   "metadata": {},
   "outputs": [
    {
     "name": "stdout",
     "output_type": "stream",
     "text": [
      "Original array:\n",
      "[1, 2, 3, 5, 7, 8, 9, 10]\n",
      "\n",
      "Number of even numbers in the above array:  3\n",
      "\n",
      "Number of odd numbers in the above array:  5\n"
     ]
    }
   ],
   "source": [
    "# counting even and odd numbers\n",
    "array_nums = [1, 2, 3, 5, 7, 8, 9, 10]\n",
    "print(\"Original array:\")\n",
    "print(array_nums)\n",
    "\n",
    "odd_ctr = len(list(filter(lambda x: (x%2 != 0) , array_nums)))\n",
    "even_ctr = len(list(filter(lambda x: (x%2 == 0) , array_nums)))\n",
    "\n",
    "print(\"\\nNumber of even numbers in the above array: \", even_ctr)\n",
    "print(\"\\nNumber of odd numbers in the above array: \", odd_ctr)"
   ]
  },
  {
   "cell_type": "markdown",
   "metadata": {},
   "source": [
    "**14. Write a Python program to find the values of length six in a given list using Lambda.**"
   ]
  },
  {
   "cell_type": "code",
   "execution_count": 58,
   "metadata": {},
   "outputs": [
    {
     "name": "stdout",
     "output_type": "stream",
     "text": [
      "Monday\n",
      "Friday\n",
      "Sunday\n"
     ]
    }
   ],
   "source": [
    "# finding values of length 6\n",
    "weekdays = ['Monday', 'Tuesday', 'Wednesday', 'Thursday', 'Friday', 'Saturday', 'Sunday']\n",
    "\n",
    "days = filter(lambda day: day if len(day)==6 else '', weekdays)\n",
    "for d in days:\n",
    "    print(d)"
   ]
  },
  {
   "cell_type": "markdown",
   "metadata": {},
   "source": [
    "**15. Write a Python program to add two given lists using map and lambda.**"
   ]
  },
  {
   "cell_type": "code",
   "execution_count": 65,
   "metadata": {},
   "outputs": [
    {
     "name": "stdout",
     "output_type": "stream",
     "text": [
      "Original lists:\n",
      "[1, 2, 3]\n",
      "[4, 5, 6]\n",
      "\n",
      "Result after adding two list:\n",
      "[5, 7, 9]\n"
     ]
    }
   ],
   "source": [
    "# adding 2 lists\n",
    "nums1 = [1, 2, 3]\n",
    "nums2 = [4, 5, 6]\n",
    "\n",
    "print(\"Original lists:\")\n",
    "print(nums1)\n",
    "print(nums2)\n",
    "\n",
    "result = map(lambda x, y: x + y, nums1, nums2)\n",
    "print(\"\\nResult after adding two list:\")\n",
    "print(list(result))"
   ]
  },
  {
   "cell_type": "markdown",
   "metadata": {},
   "source": [
    "**16. Write a Python program to find the second lowest grade of any student(s) from the given names and grades of each student using lists and lambda. Input number of students, names and grades of each student.**"
   ]
  },
  {
   "cell_type": "code",
   "execution_count": 68,
   "metadata": {},
   "outputs": [
    {
     "name": "stdout",
     "output_type": "stream",
     "text": [
      "Input number of students: 3\n",
      "Name: Mariah\n",
      "Grade: 99\n",
      "Name: John\n",
      "Grade: 89\n",
      "Name: Ana\n",
      "Grade: 91\n",
      "\n",
      "Names and Grades of all students:\n",
      "[['Mariah', 99.0], ['John', 89.0], ['Ana', 91.0]]\n",
      "\n",
      "Second lowest grade:  91.0\n",
      "\n",
      "Name:\n",
      "Ana\n"
     ]
    }
   ],
   "source": [
    "# finding the second lowest grade\n",
    "students = []\n",
    "sec_name = []\n",
    "second_low = 0\n",
    "n = int(input(\"Input number of students: \"))\n",
    "for _ in range(n):\n",
    "    s_name = input(\"Name: \")\n",
    "    score = float(input(\"Grade: \"))\n",
    "    students.append([s_name,score])\n",
    "print(\"\\nNames and Grades of all students:\")\n",
    "print(students)\n",
    "\n",
    "order =sorted(students, key = lambda x: int(x[1]))\n",
    "for i in range(n):\n",
    "    if order[i][1] != order[0][1]:\n",
    "        second_low = order[i][1]\n",
    "        break\n",
    "print(\"\\nSecond lowest grade: \",second_low)\n",
    "\n",
    "sec_student_name = [x[0] for x in order if x[1] == second_low]\n",
    "sec_student_name.sort()\n",
    "print(\"\\nName:\")\n",
    "for s_name in sec_student_name:\n",
    "    print(s_name)\n"
   ]
  },
  {
   "cell_type": "markdown",
   "metadata": {},
   "source": [
    "**17. Write a Python program to find numbers divisible by nineteen or thirteen from a list of numbers using Lambda.**"
   ]
  },
  {
   "cell_type": "code",
   "execution_count": 69,
   "metadata": {
    "scrolled": true
   },
   "outputs": [
    {
     "name": "stdout",
     "output_type": "stream",
     "text": [
      "Orginal list:\n",
      "[19, 65, 57, 39, 152, 639, 121, 44, 90, 190]\n",
      "\n",
      "Numbers of the above list divisible by nineteen or thirteen:\n",
      "[19, 65, 57, 39, 152, 190]\n"
     ]
    }
   ],
   "source": [
    "# finding numbers divisible by 19 or 13\n",
    "nums = [19, 65, 57, 39, 152, 639, 121, 44, 90, 190]\n",
    "print(\"Orginal list:\")\n",
    "print(nums) \n",
    "\n",
    "result = list(filter(lambda x: (x % 19 == 0 or x % 13 == 0), nums)) \n",
    "print(\"\\nNumbers of the above list divisible by nineteen or thirteen:\")\n",
    "print(result)"
   ]
  },
  {
   "cell_type": "markdown",
   "metadata": {},
   "source": [
    "**18. Write a Python program to find palindromes in a given list of strings using Lambda.**"
   ]
  },
  {
   "cell_type": "code",
   "execution_count": 71,
   "metadata": {},
   "outputs": [
    {
     "name": "stdout",
     "output_type": "stream",
     "text": [
      "Orginal list of strings:\n",
      "['php', 'w3r', 'Python', 'abcd', 'Java', 'aaa']\n",
      "\n",
      "List of palindromes:\n",
      "['php', 'aaa']\n"
     ]
    }
   ],
   "source": [
    "# finding palindromes\n",
    "texts = [\"php\", \"w3r\", \"Python\", \"abcd\", \"Java\", \"aaa\"]\n",
    "print(\"Orginal list of strings:\")\n",
    "print(texts) \n",
    "\n",
    "result = list(filter(lambda x: (x == \"\".join(reversed(x))), texts)) \n",
    "print(\"\\nList of palindromes:\")\n",
    "print(result) "
   ]
  },
  {
   "cell_type": "markdown",
   "metadata": {},
   "source": [
    "**19. Write a Python program to find all anagrams of a string in a given list of strings using lambda.**"
   ]
  },
  {
   "cell_type": "code",
   "execution_count": 73,
   "metadata": {},
   "outputs": [
    {
     "name": "stdout",
     "output_type": "stream",
     "text": [
      "Orginal list of strings:\n",
      "['bcda', 'abce', 'cbda', 'cbea', 'adcb']\n",
      "\n",
      "Anagrams of 'abcd' in the above string: \n",
      "['bcda', 'cbda', 'adcb']\n"
     ]
    }
   ],
   "source": [
    "# finding all anagrams of a string\n",
    "texts = [\"bcda\", \"abce\", \"cbda\", \"cbea\", \"adcb\"]\n",
    "str = \"abcd\"\n",
    "print(\"Orginal list of strings:\")\n",
    "print(texts) \n",
    "result = list(filter(lambda x: (Counter(str) == Counter(x)), texts)) \n",
    "print(\"\\nAnagrams of 'abcd' in the above string: \")\n",
    "print(result)"
   ]
  },
  {
   "cell_type": "markdown",
   "metadata": {},
   "source": [
    "**20. Write a Python program to find the numbers of a given string and store them in a list, display the numbers which are bigger than the length of the list in sorted form. Use lambda function to solve the problem.**"
   ]
  },
  {
   "cell_type": "code",
   "execution_count": 75,
   "metadata": {},
   "outputs": [
    {
     "name": "stdout",
     "output_type": "stream",
     "text": [
      "Original string:  sdf 23 safs8 5 sdfsd8 sdfs 56 21sfs 20 5\n",
      "\n",
      "Numbers in sorted form:\n",
      "20 23 56 "
     ]
    }
   ],
   "source": [
    "# finding the numbers of a string and storing them in a list\n",
    "str1 = \"sdf 23 safs8 5 sdfsd8 sdfs 56 21sfs 20 5\"\n",
    "print(\"Original string: \",str1)\n",
    "\n",
    "str_num=[i for i in str1.split(' ')]\n",
    "lenght=len(str_num)\n",
    "numbers=sorted([int(x) for x in str_num if x.isdigit()])\n",
    "print('\\nNumbers in sorted form:')\n",
    "for i in ((filter(lambda x:x>lenght,numbers))):\n",
    "    print(i,end=' ')"
   ]
  },
  {
   "cell_type": "markdown",
   "metadata": {},
   "source": [
    "**21. Write a Python program that multiply each number of given list with a given number using lambda function.**"
   ]
  },
  {
   "cell_type": "code",
   "execution_count": 99,
   "metadata": {},
   "outputs": [
    {
     "name": "stdout",
     "output_type": "stream",
     "text": [
      "Original list: [2, 4, 6, 9, 11]\n",
      "Given number: 2\n",
      "Result:\n",
      "[4, 8, 12, 18, 22]\n"
     ]
    }
   ],
   "source": [
    "# multiplying each number from a list \n",
    "nums = [2, 4, 6, 9 , 11]\n",
    "n = 2\n",
    "print(\"Original list:\", nums)\n",
    "print(\"Given number:\", n)\n",
    "\n",
    "filtered_numbers = list(map(lambda number:number*n,nums))\n",
    "print(\"Result:\")\n",
    "print((list(filtered_numbers)))"
   ]
  },
  {
   "cell_type": "markdown",
   "metadata": {},
   "source": [
    "**22. Write a Python program that sum the length of the names of a given list of names after removing the names that starts with an lowercase letter.**"
   ]
  },
  {
   "cell_type": "code",
   "execution_count": 100,
   "metadata": {},
   "outputs": [
    {
     "name": "stdout",
     "output_type": "stream",
     "text": [
      "Result:\n",
      "16\n"
     ]
    }
   ],
   "source": [
    "# creating the solution\n",
    "sample_names = ['sally', 'Dylan', 'rebecca', 'Diana', 'Joanne', 'keith']\n",
    "sample_names = list(filter(lambda el:el[0].isupper() and el[1:].islower(),sample_names))\n",
    "print(\"Result:\")\n",
    "print(len(''.join(sample_names)))"
   ]
  },
  {
   "cell_type": "markdown",
   "metadata": {},
   "source": [
    "**23. Write a Python program to calculate the sum of the positive and negative numbers of a given list of numbers using lambda function.**"
   ]
  },
  {
   "cell_type": "code",
   "execution_count": 101,
   "metadata": {},
   "outputs": [
    {
     "name": "stdout",
     "output_type": "stream",
     "text": [
      "Original list: [2, 4, -6, -9, 11, -12, 14, -5, 17]\n",
      "Sum of the positive numbers:  -32\n",
      "Sum of the negative numbers:  48\n"
     ]
    }
   ],
   "source": [
    "# calculating the sum of the positive and negative numbers\n",
    "nums = [2, 4, -6, -9, 11, -12, 14, -5, 17]\n",
    "print(\"Original list:\",nums)\n",
    "\n",
    "total_negative_nums = list(filter(lambda nums:nums < 0,nums))\n",
    "total_positive_nums = list(filter(lambda nums:nums > 0,nums))\n",
    "\n",
    "print(\"Sum of the positive numbers: \",sum(total_negative_nums))\n",
    "print(\"Sum of the negative numbers: \",sum(total_positive_nums))\n"
   ]
  },
  {
   "cell_type": "markdown",
   "metadata": {},
   "source": [
    "**24. Write a Python program to find the list with maximum and minimum length using lambda.**"
   ]
  },
  {
   "cell_type": "code",
   "execution_count": 125,
   "metadata": {},
   "outputs": [
    {
     "name": "stdout",
     "output_type": "stream",
     "text": [
      "Original list:\n",
      "[[0], [1, 3], [5, 7], [9, 11], [13, 15, 17]]\n",
      "\n",
      "List with maximum length of lists:\n",
      "(3, [13, 15, 17])\n",
      "\n",
      "List with minimum length of lists:\n",
      "(1, [0])\n"
     ]
    }
   ],
   "source": [
    "# finding a list with max and min length\n",
    "def max_length_list(input_list):\n",
    "    max_length = max(len(x) for x in input_list )   \n",
    "    max_list = max(input_list, key = lambda i: len(i))    \n",
    "    return(max_length, max_list)\n",
    "    \n",
    "def min_length_list(input_list):\n",
    "    min_length = min(len(x) for x in input_list )  \n",
    "    min_list = min(input_list, key = lambda i: len(i))\n",
    "    return(min_length, min_list)\n",
    "      \n",
    "list1 = [[0], [1, 3], [5, 7], [9, 11], [13, 15, 17]]\n",
    "print(\"Original list:\")\n",
    "print(list1)\n",
    "print(\"\\nList with maximum length of lists:\")\n",
    "print(max_length_list(list1))\n",
    "print(\"\\nList with minimum length of lists:\")\n",
    "print(min_length_list(list1))"
   ]
  },
  {
   "cell_type": "markdown",
   "metadata": {},
   "source": [
    "**2. Write a Python program to sort each sublist of strings in a given list of lists using lambda.**"
   ]
  },
  {
   "cell_type": "code",
   "execution_count": 124,
   "metadata": {},
   "outputs": [
    {
     "name": "stdout",
     "output_type": "stream",
     "text": [
      "\n",
      "Original list:\n",
      "[['green', 'orange'], ['black', 'white'], ['white', 'black', 'orange']]\n",
      "\n",
      "After sorting each sublist of the said list of lists:\n",
      "[['green', 'orange'], ['black', 'white'], ['black', 'orange', 'white']]\n"
     ]
    }
   ],
   "source": [
    "# creating solution\n",
    "def sort_sublists(input_list):\n",
    "    result = [sorted(x, key = lambda x:x[0]) for x in input_list] \n",
    "    return result\n",
    "\n",
    "color1 = [[\"green\", \"orange\"], [\"black\", \"white\"], [\"white\", \"black\", \"orange\"]]\n",
    "print(\"\\nOriginal list:\")\n",
    "print(color1)  \n",
    "\n",
    "print(\"\\nAfter sorting each sublist of the said list of lists:\")\n",
    "print(sort_sublists(color1))"
   ]
  },
  {
   "cell_type": "markdown",
   "metadata": {},
   "source": [
    "**28. Write a Python program to sort each sublist of strings in a given list of lists using lambda.**"
   ]
  },
  {
   "cell_type": "code",
   "execution_count": 126,
   "metadata": {},
   "outputs": [
    {
     "name": "stdout",
     "output_type": "stream",
     "text": [
      "Original list:\n",
      "[[2], [0], [1, 3], [0, 7], [9, 11], [13, 15, 17]]\n",
      "\n",
      "Sort the list of lists by length and value:\n",
      "[[0], [2], [0, 7], [1, 3], [9, 11], [13, 15, 17]]\n"
     ]
    }
   ],
   "source": [
    "# creating solution\n",
    "def sort_sublists(input_list):\n",
    "    result = sorted(input_list, key=lambda l: (len(l), l))\n",
    "    return result\n",
    "\n",
    "list1 = [[2], [0], [1, 3], [0, 7], [9, 11], [13, 15, 17]]\n",
    "print(\"Original list:\")\n",
    "print(list1)\n",
    "\n",
    "print(\"\\nSort the list of lists by length and value:\")\n",
    "print(sort_sublists(list1))\n"
   ]
  },
  {
   "cell_type": "markdown",
   "metadata": {},
   "source": [
    "**29.**"
   ]
  },
  {
   "cell_type": "code",
   "execution_count": 30,
   "metadata": {},
   "outputs": [],
   "source": [
    "# "
   ]
  },
  {
   "cell_type": "markdown",
   "metadata": {},
   "source": [
    "**30.**"
   ]
  },
  {
   "cell_type": "code",
   "execution_count": 31,
   "metadata": {},
   "outputs": [],
   "source": [
    "# "
   ]
  },
  {
   "cell_type": "markdown",
   "metadata": {},
   "source": [
    "**31.**"
   ]
  },
  {
   "cell_type": "code",
   "execution_count": 32,
   "metadata": {},
   "outputs": [],
   "source": [
    "# "
   ]
  },
  {
   "cell_type": "markdown",
   "metadata": {},
   "source": [
    "**32.**"
   ]
  },
  {
   "cell_type": "code",
   "execution_count": 33,
   "metadata": {},
   "outputs": [],
   "source": [
    "# "
   ]
  },
  {
   "cell_type": "markdown",
   "metadata": {},
   "source": [
    "**33.**"
   ]
  },
  {
   "cell_type": "code",
   "execution_count": 34,
   "metadata": {},
   "outputs": [],
   "source": [
    "# "
   ]
  },
  {
   "cell_type": "markdown",
   "metadata": {},
   "source": [
    "**34.**"
   ]
  },
  {
   "cell_type": "code",
   "execution_count": 35,
   "metadata": {},
   "outputs": [],
   "source": [
    "# "
   ]
  },
  {
   "cell_type": "markdown",
   "metadata": {},
   "source": [
    "**35.**"
   ]
  },
  {
   "cell_type": "code",
   "execution_count": 36,
   "metadata": {},
   "outputs": [],
   "source": [
    "# "
   ]
  },
  {
   "cell_type": "markdown",
   "metadata": {},
   "source": [
    "**36.**"
   ]
  },
  {
   "cell_type": "code",
   "execution_count": 37,
   "metadata": {},
   "outputs": [],
   "source": [
    "#"
   ]
  },
  {
   "cell_type": "markdown",
   "metadata": {},
   "source": [
    "**37.**"
   ]
  },
  {
   "cell_type": "code",
   "execution_count": 38,
   "metadata": {},
   "outputs": [],
   "source": [
    "# "
   ]
  },
  {
   "cell_type": "markdown",
   "metadata": {},
   "source": [
    "**38.**"
   ]
  },
  {
   "cell_type": "code",
   "execution_count": 39,
   "metadata": {},
   "outputs": [],
   "source": [
    "# "
   ]
  },
  {
   "cell_type": "markdown",
   "metadata": {},
   "source": [
    "**39.**"
   ]
  },
  {
   "cell_type": "code",
   "execution_count": 40,
   "metadata": {},
   "outputs": [],
   "source": [
    "#"
   ]
  },
  {
   "cell_type": "markdown",
   "metadata": {},
   "source": [
    "**40.**"
   ]
  },
  {
   "cell_type": "code",
   "execution_count": 41,
   "metadata": {},
   "outputs": [],
   "source": [
    "# "
   ]
  },
  {
   "cell_type": "markdown",
   "metadata": {},
   "source": [
    "**41.**"
   ]
  },
  {
   "cell_type": "code",
   "execution_count": 42,
   "metadata": {},
   "outputs": [],
   "source": [
    "# "
   ]
  },
  {
   "cell_type": "code",
   "execution_count": null,
   "metadata": {},
   "outputs": [],
   "source": []
  }
 ],
 "metadata": {
  "kernelspec": {
   "display_name": "Python 3",
   "language": "python",
   "name": "python3"
  },
  "language_info": {
   "codemirror_mode": {
    "name": "ipython",
    "version": 3
   },
   "file_extension": ".py",
   "mimetype": "text/x-python",
   "name": "python",
   "nbconvert_exporter": "python",
   "pygments_lexer": "ipython3",
   "version": "3.7.3"
  }
 },
 "nbformat": 4,
 "nbformat_minor": 2
}
